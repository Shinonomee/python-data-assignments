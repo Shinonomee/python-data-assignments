{
 "cells": [
  {
   "cell_type": "code",
   "execution_count": 24,
   "metadata": {},
   "outputs": [],
   "source": [
    "from selenium import webdriver\n",
    "from selenium.common.exceptions import StaleElementReferenceException, NoSuchElementException\n",
    "import time\n",
    "\n",
    "def get_by_css(session, css, text=True):\n",
    "    try:\n",
    "        MAX_TRY = 3\n",
    "        t = 0\n",
    "        while t < MAX_TRY:\n",
    "            t += 1\n",
    "            try:\n",
    "                res = session.find_element_by_css_selector(css)\n",
    "            except StaleElementReferenceException:\n",
    "                time.sleep(2)\n",
    "                continue\n",
    "            break\n",
    "        if t == MAX_TRY:\n",
    "            return None\n",
    "    except NoSuchElementException:\n",
    "        return None\n",
    "    if text:\n",
    "        return res.text\n",
    "    return res\n",
    "#I find that some hotels are new opened so they do not have score and comments,the elements can not be located and the error message is NoSuchElementException. So I use try except.\n",
    "#resource:https://www.cnblogs.com/yoyoketang/p/6696788.html"
   ]
  },
  {
   "cell_type": "code",
   "execution_count": 25,
   "metadata": {},
   "outputs": [],
   "source": [
    "def get_hotels_from_browser(b):\n",
    "\n",
    "    hotels = []\n",
    "    for session in b.find_elements_by_css_selector('.sr_item.sr_item_new.sr_item_default.sr_property_block.sr_flex_layout'):\n",
    "        hotel = {}\n",
    "        name = get_by_css(session, 'span.sr-hotel__name')\n",
    "        score = get_by_css(session, '.bui-review-score__badge')\n",
    "        comments = get_by_css(session, '.bui-review-score__text')\n",
    "        address = get_by_css(session, '.jq_tooltip.district_link.visited_link')\n",
    "        price = get_by_css(session, '.price.availprice.no_rack_rate')\n",
    "        if not price:\n",
    "            price = get_by_css(session, '.price.scarcity_color')\n",
    "\n",
    "        hotel['name'] = name\n",
    "        hotel['score'] = score\n",
    "        hotel['comments'] = comments\n",
    "        hotel['address'] = address\n",
    "        hotel['price'] = price\n",
    "        value_list=list(hotel.values())\n",
    "        hotels.append(value_list)\n",
    "    return hotels"
   ]
  },
  {
   "cell_type": "code",
   "execution_count": 26,
   "metadata": {},
   "outputs": [],
   "source": [
    "url = 'https://www.booking.com/searchresults.zh-cn.html?aid=378266&label=booking-name-IquAp*EbiLS6jPVl_he8yQS267778093594%3Apl%3Ata%3Ap1%3Ap2%3Aac%3Aap1t1%3Aneg%3Afi%3Atikwd-65526620%3Alp9061634%3Ali%3Adec%3Adm&sid=75a6a10fd83d509dc44f2bc75e94dc31&checkin_month=9&checkin_monthday=12&checkin_year=2019&checkout_month=9&checkout_monthday=13&checkout_year=2019&city=-240905&class_interval=1&dest_id=-240905&dest_type=city&from_sf=1&group_adults=2&group_children=0&label_click=undef&no_rooms=1&raw_dest_type=city&room1=A%2CA&sb_price_type=total&shw_aparth=1&slp_r_match=0&src=searchresults&srpvid=342a6023a36e0036&ss=%E5%A4%A7%E9%98%AA&ssb=empty&ssne=%E5%A4%A7%E9%98%AA&ssne_untouched=%E5%A4%A7%E9%98%AA&nflt=di%3D7322%3Bpri%3D2%3B&rsf=pri-2&lsf=pri%7C2%7C136'\n",
    "browser = webdriver.Chrome()\n",
    "browser.get(url)\n",
    "time.sleep(2)"
   ]
  },
  {
   "cell_type": "code",
   "execution_count": 27,
   "metadata": {},
   "outputs": [
    {
     "name": "stdout",
     "output_type": "stream",
     "text": [
      "[['Grandi Nipponbashi Park Hotel', '8.5', '244条住客点评', '南部地区, 大阪 – 显示在地图上', 'HK$ 582'], ['Kawarayamachi Crystal Hotel', '8.7', '299条住客点评', '南部地区, 大阪 – 显示在地图上', 'HK$ 588'], ['Floral Hotel Shinsaibasi', '7.6', '59条住客点评', '南部地区, 大阪 – 显示在地图上', 'HK$ 726'], ['Namba~Tsutenkaku Guest house Sunnyhouse', '9.1', '16条住客点评', '南部地区, 大阪 – 显示在地图上', 'HK$ 657'], ['Shin Nippombashi', '9.0', '68条住客点评', '南部地区, 大阪 – 显示在地图上', 'HK$ 807'], ['Doutonbori Crystal Hotel', '9.5', '5条住客点评', '道顿堀, 大阪 – 显示在地图上', 'HK$ 872'], ['RakutenSTAYHOSTEL Nambaminami', '8.5', '127条住客点评', '南部地区, 大阪 – 显示在地图上', 'HK$ 795'], ['Lahaina Park Hotel', '7.6', '9条住客点评', '南部地区, 大阪 – 显示在地图上', 'HK$ 553'], ['APA Hotel Namba-Eki Higashi', '8.2', '5,355条住客点评', '难波, 大阪 – 显示在地图上', 'HK$ 761'], ['Hotel Shin-Imamiya', '7.1', '3,211条住客点评', '南部地区, 大阪 – 显示在地图上', 'HK$ 552'], ['Jakotel Apartment Namba', '7.8', '128条住客点评', '南部地区, 大阪 – 显示在地图上', 'HK$ 484'], ['HG Cozy Hotel No.16', '7.3', '30条住客点评', '南部地区, 大阪 – 显示在地图上', 'HK$ 616'], ['APA Hotel Namba-Shinsaibashi', '7.8', '1,746条住客点评', '道顿堀, 大阪 – 显示在地图上', 'HK$ 830'], ['HG Cozy Hotel No.38', '7.9', '22条住客点评', '南部地区, 大阪 – 显示在地图上', 'HK$ 616'], ['HOTEL LAND MARK NAMBA101', '9.8', '7条住客点评', '难波, 大阪 – 显示在地图上', 'HK$ 761'], ['Picnic Hostel Osaka', '9.2', '814条住客点评', '南部地区, 大阪 – 显示在地图上', 'HK$ 519'], ['Motomachi Hotel Apartment', '8.2', '22条住客点评', '难波, 大阪 – 显示在地图上', 'HK$ 747'], ['Sarasa Hotel Shinsaibashi', '8.7', '2,047条住客点评', '心斋桥, 大阪 – 显示在地图上', 'HK$ 654'], ['Hotel Code Shinsaibashi', '8.3', '973条住客点评', '心斋桥, 大阪 – 显示在地图上', 'HK$ 726'], ['Nishitetsu Inn Shinsaibashi', '8.0', '488条住客点评', '心斋桥, 大阪 – 显示在地图上', 'HK$ 703'], ['HG Cozy Hotel No.32', '7.3', '64条住客点评', '南部地区, 大阪 – 显示在地图上', 'HK$ 692'], ['Sarasa Hotel Namba', '8.5', '2,002条住客点评', '难波, 大阪 – 显示在地图上', 'HK$ 830'], ['Welina Hotel Dotonbori', '8.2', '261条住客点评', '道顿堀, 大阪 – 显示在地图上', 'HK$ 761'], ['BEST WESTERN Hotel Fino Osaka Shinsaibashi', '8.0', '736条住客点评', '心斋桥, 大阪 – 显示在地图上', 'HK$ 778'], ['Hotel July', '8.3', '192条住客点评', '南部地区, 大阪 – 显示在地图上', 'HK$ 830'], ['Hotel WBF Namba Kuromon', None, None, '南部地区, 大阪 – 显示在地图上', 'HK$ 794'], ['Tanimachi Hotel Apartment', '8.2', '3条住客点评', '南部地区, 大阪 – 显示在地图上', 'HK$ 708'], ['Samty Nipponbashi Apartment', '7.8', '37条住客点评', '南部地区, 大阪 – 显示在地图上', 'HK$ 588'], ['Maple House Namba Nippombashi', None, None, '南部地区, 大阪 – 显示在地图上', 'HK$ 761'], ['Hotel Amaterrace Yosuga', '9.2', '127条住客点评', '南部地区, 大阪 – 显示在地图上', 'HK$ 692'], ['Namba_Shimanouchi_SMR0009B', '9.0', '3条住客点评', '南部地区, 大阪 – 显示在地图上', 'HK$ 795'], ['Daikoku Nanba Hotel Apartment', '8.1', '2条住客点评', '南部地区, 大阪 – 显示在地图上', 'HK$ 841'], ['Namba_Daikoku_DOR0058B', '6.7', '3条住客点评', '南部地区, 大阪 – 显示在地图上', 'HK$ 692'], ['Namba_Dotonbori_DOR0057B', '7.7', '2条住客点评', '南部地区, 大阪 – 显示在地图上', 'HK$ 692'], ['Prince space Tanimachi', '9.3', '31条住客点评', '南部地区, 大阪 – 显示在地图上', 'HK$ 692'], ['Blossom River 1', '9.2', '12条住客点评', '南部地区, 大阪 – 显示在地图上', 'HK$ 692'], ['Himitsukichi Luxury Apartment', '8.9', '15条住客点评', '南部地区, 大阪 – 显示在地图上', 'HK$ 553'], ['South In Ikenoya', '7.8', '25条住客点评', '难波, 大阪 – 显示在地图上', 'HK$ 712'], ['Namba_Dotonbori_DOR0060B', None, None, '南部地区, 大阪 – 显示在地图上', 'HK$ 553'], ['Hostel Q', '8.2', '1,126条住客点评', '道顿堀, 大阪 – 显示在地图上', 'HK$ 484'], ['Apartment in Naniwa 555152', None, None, '难波, 大阪 – 显示在地图上', 'HK$ 719'], ['Nerarel Hostel Namba', '8.6', '1,299条住客点评', '难波, 大阪 – 显示在地图上', 'HK$ 469'], ['Namba_Dotonbori_DOR0063B', None, None, '南部地区, 大阪 – 显示在地图上', 'HK$ 553'], ['Namba_Namba_NBR0002B', '7.9', '7条住客点评', '难波, 大阪 – 显示在地图上', 'HK$ 450'], ['Namba_Daikoku_DAR0022B', None, None, '南部地区, 大阪 – 显示在地图上', 'HK$ 761'], ['Namba_Dotonbori_DOR0069B', '7.1', '1条住客点评', '南部地区, 大阪 – 显示在地图上', 'HK$ 553'], ['Zen Labo Osaka', '8.2', '1,460条住客点评', '难波, 大阪 – 显示在地图上', 'HK$ 448'], ['Namba_Dotonbori_DOR0068B', '7.9', '1条住客点评', '南部地区, 大阪 – 显示在地图上', 'HK$ 553'], ['Home Hostel Osaka', '9.5', '904条住客点评', '南部地区, 大阪 – 显示在地图上', 'HK$ 464'], ['Namba_Dotonbori_DOR0065B', None, None, '南部地区, 大阪 – 显示在地图上', 'HK$ 692'], ['Shinimamiya 805 kids friendly', '10', '2条住客点评', '南部地区, 大阪 – 显示在地图上', 'HK$ 733'], ['Osaka Hitomi House No2', '6.9', '37条住客点评', '南部地区, 大阪 – 显示在地图上', 'HK$ 761'], ['Apartment in Naniwa 555150', None, None, '难波, 大阪 – 显示在地图上', 'HK$ 792'], ['Guest house be happy', '10', '2条住客点评', '西区, 大阪 – 显示在地图上', 'HK$ 484'], ['Apartment W&K', '7.7', '28条住客点评', '难波, 大阪 – 显示在地图上', 'HK$ 450'], ['Raffine Namba (Adult Only)', '7.4', '40条住客点评', '难波, 大阪 – 显示在地图上', 'HK$ 692'], ['Residence Namba East', '8.1', '11条住客点评', '南部地区, 大阪 – 显示在地图上', 'HK$ 484'], ['Oasis Daikoku one', None, None, '南部地区, 大阪 – 显示在地图上', 'HK$ 513'], ['Apartment in Osaka 555207', None, None, '南部地区, 大阪 – 显示在地图上', 'HK$ 843'], ['Namba_Dotonbori_DOR0064B', None, None, '南部地区, 大阪 – 显示在地图上', 'HK$ 692'], ['Namba_Namba_NBR0003B', '10', '1条住客点评', '难波, 大阪 – 显示在地图上', 'HK$ 519'], ['Namba_Dotonbori_DOR0066B', '5.4', '1条住客点评', '南部地区, 大阪 – 显示在地图上', 'HK$ 692'], ['CC Apartment in Osaka 61', None, None, '南部地区, 大阪 – 显示在地图上', 'HK$ 647'], ['Namba_Sakuragawa_SKR0031B', None, None, '南部地区, 大阪 – 显示在地图上', 'HK$ 623'], ['Qoo Hostel Osaka', '8.7', '171条住客点评', '南部地区, 大阪 – 显示在地图上', 'HK$ 553'], ['Apartment in Shimanouchi 689', None, None, '南部地区, 大阪 – 显示在地图上', 'HK$ 807'], ['Apartment in Naniwa 555127', None, None, '难波, 大阪 – 显示在地图上', 'HK$ 645'], ['プライムハイツ', None, None, '南部地区, 大阪 – 显示在地图上', 'HK$ 484'], ['Fuku Hostel Nagomi Namba', '9.0', '1,406条住客点评', '南部地区, 大阪 – 显示在地图上', 'HK$ 553'], ['Apartment in Osaka 1361', None, None, '难波, 大阪 – 显示在地图上', 'HK$ 678'], ['Apartment in Osaka 1357', '8.1', '3条住客点评', '难波, 大阪 – 显示在地图上', 'HK$ 678'], ['Apartment in Osaka 1358', '5.0', '3条住客点评', '难波, 大阪 – 显示在地图上', 'HK$ 678'], ['Namba_Dotonbori_DOR0061B', '5.8', '2条住客点评', '南部地区, 大阪 – 显示在地图上', 'HK$ 623'], ['Apartment in Naniwa 43', None, None, '南部地区, 大阪 – 显示在地图上', 'HK$ 733'], ['NANBA OCAT USJ Area', None, None, '南部地区, 大阪 – 显示在地图上', 'HK$ 484'], ['Namba_Dotonbori_DOR0067B', None, None, '南部地区, 大阪 – 显示在地图上', 'HK$ 692'], ['Namba_Dotonbori_DOR0059B', None, None, '南部地区, 大阪 – 显示在地图上', 'HK$ 623'], ['Osaka Esraise', '10', '1条住客点评', '南部地区, 大阪 – 显示在地图上', 'HK$ 692'], ['Namba_Dotonbori_DOR0053B', None, None, '南部地区, 大阪 – 显示在地图上', 'HK$ 553'], ['Namba_Shimanouchi_SMR0012B', '6.1', '2条住客点评', '南部地区, 大阪 – 显示在地图上', 'HK$ 692'], ['ibis Styles Osaka Namba', '7.9', '3,050条住客点评', '道顿堀, 大阪 – 显示在地图上', 'HK$ 609'], ['Apartment in Shimanouchi 690', '5.0', '1条住客点评', '南部地区, 大阪 – 显示在地图上', 'HK$ 697'], ['Namba_Dotonbori_DOR0056B', None, None, '南部地区, 大阪 – 显示在地图上', 'HK$ 553'], ['Local stay in Namba', '7.8', '7条住客点评', '南部地区, 大阪 – 显示在地图上', 'HK$ 692'], ['Apartment in Naniwa 555201', None, None, '南部地区, 大阪 – 显示在地图上', 'HK$ 543'], ['HOTEL MYSTAYS Shinsaibashi', '8.3', '883条住客点评', '心斋桥, 大阪 – 显示在地图上', 'HK$ 726'], ['Fuku Hostel Namba', '8.8', '688条住客点评', '难波, 大阪 – 显示在地图上', 'HK$ 553'], ['Osaka Namba Hostel Miyabi', '8.6', '360条住客点评', '难波, 大阪 – 显示在地图上', 'HK$ 830'], ['Oasis Daikou Three', None, None, '南部地区, 大阪 – 显示在地图上', 'HK$ 513'], ['Osaka - hotel / Vacation STAY 2626', None, None, '南部地区, 大阪 – 显示在地图上', 'HK$ 659'], ['Namba_Dotonbori_DOR0055B', '10', '1条住客点评', '南部地区, 大阪 – 显示在地图上', 'HK$ 692'], ['HG Cozy Hotel No.17', '6.9', '37条住客点评', '南部地区, 大阪 – 显示在地图上', 'HK$ 730'], ['Namba_Dotonbori_DOR0054B', '7.5', '1条住客点评', '南部地区, 大阪 – 显示在地图上', 'HK$ 553'], ['Apartment in Naniwa 23', None, None, '难波, 大阪 – 显示在地图上', 'HK$ 660'], ['Hostel Mitsuwaya Osaka', '9.3', '344条住客点评', '南部地区, 大阪 – 显示在地图上', 'HK$ 461'], ['Namba_Ebisu_EBR0009B', None, None, '南部地区, 大阪 – 显示在地图上', 'HK$ 692'], ['SK Building 6F', '7.0', '3条住客点评', '南部地区, 大阪 – 显示在地图上', 'HK$ 719'], ['HG Apartment in Naniwa 32 402', None, None, '南部地区, 大阪 – 显示在地图上', 'HK$ 660'], ['HG Apartment in Naniwa 32 401', None, None, '南部地区, 大阪 – 显示在地图上', 'HK$ 660'], ['Apartment Namba Kuromon KMR0045B', '5.8', '1条住客点评', '南部地区, 大阪 – 显示在地图上', 'HK$ 692'], ['Namba_Shimanouchi_SMR0011B', '10', '1条住客点评', '南部地区, 大阪 – 显示在地图上', 'HK$ 553'], ['Apartment in Osaka 1359', '4.0', '2条住客点评', '难波, 大阪 – 显示在地图上', 'HK$ 678'], ['难波樱川', '10', '1条住客点评', '南部地区, 大阪 – 显示在地图上', 'HK$ 553'], ['Apartment in Osaka 1362', '6.7', '3条住客点评', '难波, 大阪 – 显示在地图上', 'HK$ 678'], ['Osaka EXE', '6.7', '2条住客点评', '南部地区, 大阪 – 显示在地图上', 'HK$ 761'], ['Nipponbashi Paru 302', None, None, '南部地区, 大阪 – 显示在地图上', 'HK$ 830'], ['B&C Hotel Sunplay Inn Nagahori', '7.8', '265条住客点评', '心斋桥, 大阪 – 显示在地图上', 'HK$ 448'], ['Prince Space Namba', '8.5', '4条住客点评', '心斋桥, 大阪 – 显示在地图上', 'HK$ 692'], ['Apartment in Osaka 5951', '9.6', '1条住客点评', '南部地区, 大阪 – 显示在地图上', 'HK$ 787'], ['Apartment in Naniwa 51', None, None, '南部地区, 大阪 – 显示在地图上', 'HK$ 733'], ['Hotel Kanade Osaka Namba', '8.3', '1,712条住客点评', '难波, 大阪 – 显示在地图上', 'HK$ 761'], ['Guest House Ebisucho', '8.3', '2条住客点评', '南部地区, 大阪 – 显示在地图上', 'HK$ 830'], ['Hostel Chill Out', '9.0', '913条住客点评', '难波, 大阪 – 显示在地图上', 'HK$ 553'], ['Apartment Namba Kuromon KMR0046B', None, None, '南部地区, 大阪 – 显示在地图上', 'HK$ 692'], ['Hotel WBF Namba Ebisu', '8.8', '150条住客点评', '南部地区, 大阪 – 显示在地图上', 'HK$ 764'], ['Oasis Daikoku Two', None, None, '南部地区, 大阪 – 显示在地图上', 'HK$ 513'], ['Apartment VR Namba Kuromon KMR0043B', '8.3', '1条住客点评', '南部地区, 大阪 – 显示在地图上', 'HK$ 553'], ['Hotel Art Inn Namba Osaka（大阪难波艺术酒店）', '7.7', '572条住客点评', '难波, 大阪 – 显示在地图上', 'HK$ 830'], ['HG Cozy Hotel No.23（23号HG舒适公寓）', '7.9', '22条住客点评', '难波, 大阪 – 显示在地图上', 'HK$ 616'], ['Business Hotel Nissei（日星商务旅馆）', '7.3', '1,031条住客点评', '难波, 大阪 – 显示在地图上', 'HK$ 761'], ['Business Inn Sennichimae Hotel（千日前商务酒店）', '6.9', '446条住客点评', '难波, 大阪 – 显示在地图上', 'HK$ 478'], ['Hotel Asiato（阿西托酒店）', '8.5', '55条住客点评', '南部地区, 大阪 – 显示在地图上', 'HK$ 830'], ['HG Cozy Hotel No.19（HG舒适9号公寓）', '6.4', '16条住客点评', '南部地区, 大阪 – 显示在地图上', 'HK$ 685'], ['Smile Hotel Namba（南巴微笑酒店）', '7.1', '616条住客点评', '南部地区, 大阪 – 显示在地图上', 'HK$ 623'], ['HG Cozy Hotel No.18（HG安逸18号公寓）', '6.8', '47条住客点评', '南部地区, 大阪 – 显示在地图上', 'HK$ 678'], ['Central of SHINSAIBASI 048', None, None, '心斋桥, 大阪 – 显示在地图上', 'HK$ 588'], ['Central of SHINSAIBASI 101', None, None, '心斋桥, 大阪 – 显示在地图上', 'HK$ 588'], ['Central of SHINSAIBASI 034', None, None, '心斋桥, 大阪 – 显示在地图上', 'HK$ 588'], ['Central of SHINSAIBASI 051', None, None, '心斋桥, 大阪 – 显示在地图上', 'HK$ 588'], ['Central of SHINSAIBASI 054', None, None, '心斋桥, 大阪 – 显示在地图上', 'HK$ 588'], ['Central of SHINSAIBASI 055', None, None, '心斋桥, 大阪 – 显示在地图上', 'HK$ 623'], ['Central of SHINSAIBASI 076', None, None, '心斋桥, 大阪 – 显示在地图上', 'HK$ 588'], ['Central of SHINSAIBASI 036', None, None, '心斋桥, 大阪 – 显示在地图上', 'HK$ 588'], ['Central of SHINSAIBASI 035', None, None, '心斋桥, 大阪 – 显示在地图上', 'HK$ 588'], ['Toyotomi Inn Nambakozu', '8.4', '8条住客点评', '南部地区, 大阪 – 显示在地图上', 'HK$ 858']]\n"
     ]
    }
   ],
   "source": [
    "all_page_hotels = []\n",
    "for i in range(7):\n",
    "    time.sleep(2)\n",
    "    new_hotels= get_hotels_from_browser(browser)\n",
    "    all_page_hotels.extend(new_hotels)\n",
    "    time.sleep(0.5)\n",
    "    no_survey = get_by_css(browser, '.survey_no_button', False)\n",
    "    if no_survey:\n",
    "        no_survey.click()\n",
    "    time.sleep(1)\n",
    "    next_button = browser.find_element_by_css_selector('.bui-pagination__nav ul.bui-pagination__list li.bui-pagination__item.bui-pagination__next-arrow a') #get the element's location\n",
    "    next_button.location\n",
    "    loc = next_button.location\n",
    "    browser.execute_script(\"window.scrollTo({x}, {y});\".format(**loc))\n",
    "    time.sleep(2)\n",
    "    next_button.click()\n",
    "\n",
    "print(all_page_hotels)\n",
    "#In this part I add some time.sleep() to solve the browser rendering delay, resource:https://github.com/hupili/python-for-data-and-media-communication-gitbook/issues/68\n"
   ]
  },
  {
   "cell_type": "code",
   "execution_count": 28,
   "metadata": {},
   "outputs": [],
   "source": [
    "import csv\n",
    "with open('osaka.csv','w',newline='')as f:\n",
    "    mywriter = csv.writer(f)\n",
    "    header=['name','score','comments','address','price']\n",
    "    mywriter.writerow(header)\n",
    "    mywriter.writerows(all_page_hotels)"
   ]
  },
  {
   "cell_type": "code",
   "execution_count": null,
   "metadata": {},
   "outputs": [],
   "source": []
  }
 ],
 "metadata": {
  "kernelspec": {
   "display_name": "Python 3",
   "language": "python",
   "name": "python3"
  },
  "language_info": {
   "codemirror_mode": {
    "name": "ipython",
    "version": 3
   },
   "file_extension": ".py",
   "mimetype": "text/x-python",
   "name": "python",
   "nbconvert_exporter": "python",
   "pygments_lexer": "ipython3",
   "version": "3.6.5"
  }
 },
 "nbformat": 4,
 "nbformat_minor": 2
}
